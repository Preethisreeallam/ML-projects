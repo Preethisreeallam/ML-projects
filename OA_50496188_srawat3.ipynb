{
 "cells": [
  {
   "cell_type": "markdown",
   "metadata": {},
   "source": [
    "Name: Santosh Singh Rawat\n",
    "ubId:50496188\n",
    "\n",
    "Name: Jyosna Reddy Matta\n",
    "ubId:50495714"
   ]
  },
  {
   "cell_type": "code",
   "execution_count": 6,
   "metadata": {},
   "outputs": [],
   "source": [
    "import numpy as np\n",
    "import pandas as pd\n",
    "from sklearn.feature_extraction.text import TfidfVectorizer\n",
    "\n",
    "import matplotlib.pyplot as plt\n",
    "import seaborn as sns\n",
    "from sklearn.ensemble import RandomForestClassifier\n",
    "from sklearn.metrics import classification_report\n",
    "from sklearn.metrics import confusion_matrix\n",
    "from sklearn.metrics import accuracy_score\n",
    "import nltk\n",
    "from nltk.corpus import stopwords"
   ]
  },
  {
   "cell_type": "code",
   "execution_count": 7,
   "metadata": {},
   "outputs": [
    {
     "name": "stderr",
     "output_type": "stream",
     "text": [
      "[nltk_data] Downloading package stopwords to\n",
      "[nltk_data]     C:\\Users\\MarySharmilaRongali\\AppData\\Roaming\\nltk_data\n",
      "[nltk_data]     ...\n",
      "[nltk_data]   Package stopwords is already up-to-date!\n"
     ]
    },
    {
     "data": {
      "text/plain": [
       "True"
      ]
     },
     "execution_count": 7,
     "metadata": {},
     "output_type": "execute_result"
    }
   ],
   "source": [
    "from sklearn.model_selection import train_test_split\n",
    "nltk.download('stopwords')"
   ]
  },
  {
   "cell_type": "code",
   "execution_count": 8,
   "metadata": {},
   "outputs": [
    {
     "name": "stdout",
     "output_type": "stream",
     "text": [
      "0        No comment is expected from Barack Obama Membe...\n",
      "1           Did they post their votes for Hillary already?\n",
      "2         Now, most of the demonstrators gathered last ...\n",
      "3        A dozen politically active pastors came here f...\n",
      "4        The RS-28 Sarmat missile, dubbed Satan 2, will...\n",
      "                               ...                        \n",
      "72129    WASHINGTON (Reuters) - Hackers believed to be ...\n",
      "72130    You know, because in fantasyland Republicans n...\n",
      "72131    Migrants Refuse To Leave Train At Refugee Camp...\n",
      "72132    MEXICO CITY (Reuters) - Donald Trump’s combati...\n",
      "72133    Goldman Sachs Endorses Hillary Clinton For Pre...\n",
      "Name: content, Length: 72134, dtype: object\n"
     ]
    }
   ],
   "source": [
    "import os\n",
    "news_dataset = pd.read_csv('WELFake_Dataset.csv')\n",
    "news_dataset.head()\n",
    "news_dataset.isnull().sum()\n",
    "news_dataset = news_dataset.fillna('')\n",
    "news_dataset['content'] = news_dataset['text']\n",
    "print(news_dataset['content'])\n",
    "X = news_dataset.drop(columns=['label'],axis=1)\n",
    "Y = news_dataset['label']"
   ]
  },
  {
   "cell_type": "code",
   "execution_count": null,
   "metadata": {},
   "outputs": [],
   "source": [
    "from nltk.stem.porter import PorterStemmer\n",
    "import re\n",
    "port_stem = PorterStemmer()\n",
    "def preprocess_text(text_data):\n",
    "    stop_words = set(stopwords.words('english'))\n",
    "    processed_sentences = []\n",
    "    for sentence in text_data:\n",
    "        cleaned_sentence = re.sub(r'[^\\w\\s]', '', sentence)     \n",
    "        tokens = cleaned_sentence.split()                      \n",
    "        filtered_tokens = [token.lower() for token in tokens if token.lower() not in stop_words]\n",
    "        processed_sentences.append(' '.join(filtered_tokens))\n",
    "\n",
    "    return processed_sentences"
   ]
  },
  {
   "cell_type": "markdown",
   "metadata": {},
   "source": [
    "function to remove non-alphanumeric characters and whitespace, and stopwords from the text."
   ]
  },
  {
   "cell_type": "code",
   "execution_count": 9,
   "metadata": {},
   "outputs": [],
   "source": [
    "news_dataset['content'] =  preprocess_text(news_dataset['content'].values)\n",
    "X = news_dataset['content'].values\n",
    "Y = news_dataset['label'].values"
   ]
  },
  {
   "cell_type": "code",
   "execution_count": 35,
   "metadata": {},
   "outputs": [
    {
     "name": "stdout",
     "output_type": "stream",
     "text": [
      "0        comment expected barack obama members fyf911 f...\n",
      "1                               post votes hillary already\n",
      "2        demonstrators gathered last night exercising c...\n",
      "3        dozen politically active pastors came private ...\n",
      "4        rs28 sarmat missile dubbed satan 2 replace ss1...\n",
      "                               ...                        \n",
      "72129    washington reuters hackers believed working ru...\n",
      "72130    know fantasyland republicans never questioned ...\n",
      "72131    migrants refuse leave train refugee camp hunga...\n",
      "72132    mexico city reuters donald trumps combative st...\n",
      "72133    goldman sachs endorses hillary clinton preside...\n",
      "Name: content, Length: 72134, dtype: object\n"
     ]
    }
   ],
   "source": [
    "print(news_dataset['content'])"
   ]
  },
  {
   "cell_type": "code",
   "execution_count": 10,
   "metadata": {},
   "outputs": [],
   "source": [
    "# vectorizing the data and split data into training set and test set\n",
    "vectorizer = TfidfVectorizer()\n",
    "vectorizer.fit(X)\n",
    "X = vectorizer.transform(X)\n",
    "X_train, X_test, Y_train, Y_test = train_test_split(X, Y, test_size = 0.2,stratify=Y, random_state=42)"
   ]
  },
  {
   "cell_type": "markdown",
   "metadata": {},
   "source": [
    "modeling random forest"
   ]
  },
  {
   "cell_type": "code",
   "execution_count": 37,
   "metadata": {},
   "outputs": [
    {
     "name": "stdout",
     "output_type": "stream",
     "text": [
      "Accuracy score of the test data :  0.938\n"
     ]
    }
   ],
   "source": [
    "clf_rf=RandomForestClassifier()\n",
    "clf_rf=clf_rf.fit(X_train, Y_train)\n",
    "predictions_rf = clf_rf.predict(X_test)\n",
    "test_data_accuracy_rf = accuracy_score(predictions_rf, Y_test)\n",
    "test_data_accuracy_rf = round(test_data_accuracy_rf, 3)\n",
    "print('Accuracy score of the test data : ', test_data_accuracy_rf)"
   ]
  },
  {
   "cell_type": "code",
   "execution_count": 43,
   "metadata": {},
   "outputs": [
    {
     "name": "stdout",
     "output_type": "stream",
     "text": [
      "              precision    recall  f1-score   support\n",
      "\n",
      "           0       0.94      0.93      0.94      7006\n",
      "           1       0.94      0.94      0.94      7421\n",
      "\n",
      "    accuracy                           0.94     14427\n",
      "   macro avg       0.94      0.94      0.94     14427\n",
      "weighted avg       0.94      0.94      0.94     14427\n",
      "\n"
     ]
    }
   ],
   "source": [
    "print(classification_report(Y_test, predictions_rf))"
   ]
  },
  {
   "cell_type": "code",
   "execution_count": 46,
   "metadata": {},
   "outputs": [
    {
     "data": {
      "image/png": "[encoded data removed]",
      "text/plain": [
       "<Figure size 432x288 with 1 Axes>"
      ]
     },
     "metadata": {
      "needs_background": "light"
     },
     "output_type": "display_data"
    }
   ],
   "source": [
    "cm = confusion_matrix(Y_test, predictions_rf)\n",
    "sns.heatmap(cm, annot=True, fmt='d', cmap='Blues', cbar=False,\n",
    "            xticklabels=['Predicted 0', 'Predicted 1'],\n",
    "            yticklabels=['Actual 0', 'Actual 1'])\n",
    "\n",
    "plt.xlabel('Predicted')\n",
    "plt.ylabel('Actual')\n",
    "plt.title('Confusion Matrix')\n",
    "plt.show()"
   ]
  },
  {
   "cell_type": "markdown",
   "metadata": {},
   "source": [
    "Modeling Naive Bayes"
   ]
  },
  {
   "cell_type": "code",
   "execution_count": 11,
   "metadata": {},
   "outputs": [
    {
     "name": "stdout",
     "output_type": "stream",
     "text": [
      "Accuracy score of the test data :  0.871\n"
     ]
    }
   ],
   "source": [
    "from sklearn.naive_bayes import MultinomialNB\n",
    "mNB=MultinomialNB()\n",
    "mNB=mNB.fit(X_train, Y_train)\n",
    "predictions_mNB = mNB.predict(X_test)\n",
    "test_data_accuracy_mNB = accuracy_score(predictions_mNB, Y_test)\n",
    "test_data_accuracy_mNB = round(test_data_accuracy_mNB, 3)\n",
    "print('Accuracy score of the test data : ', test_data_accuracy_mNB)"
   ]
  },
  {
   "cell_type": "code",
   "execution_count": 12,
   "metadata": {},
   "outputs": [
    {
     "name": "stdout",
     "output_type": "stream",
     "text": [
      "              precision    recall  f1-score   support\n",
      "\n",
      "           0       0.84      0.92      0.87      7006\n",
      "           1       0.91      0.83      0.87      7421\n",
      "\n",
      "    accuracy                           0.87     14427\n",
      "   macro avg       0.87      0.87      0.87     14427\n",
      "weighted avg       0.87      0.87      0.87     14427\n",
      "\n"
     ]
    }
   ],
   "source": [
    "print(classification_report(Y_test, predictions_mNB))"
   ]
  },
  {
   "cell_type": "code",
   "execution_count": 18,
   "metadata": {},
   "outputs": [
    {
     "data": {
      "image/png": "[encoded data removed]",
      "text/plain": [
       "<Figure size 432x288 with 1 Axes>"
      ]
     },
     "metadata": {
      "needs_background": "light"
     },
     "output_type": "display_data"
    }
   ],
   "source": [
    "cm = confusion_matrix(Y_test, predictions_mNB)\n",
    "sns.heatmap(cm, annot=True, fmt='d', cmap='Blues', cbar=False,\n",
    "            xticklabels=['Predicted 0', 'Predicted 1'],\n",
    "            yticklabels=['Actual 0', 'Actual 1'])\n",
    "\n",
    "plt.xlabel('Predicted')\n",
    "plt.ylabel('Actual')\n",
    "plt.title('Confusion Matrix NB')\n",
    "plt.show()"
   ]
  },
  {
   "cell_type": "markdown",
   "metadata": {},
   "source": [
    "Modeling Logistic Regression"
   ]
  },
  {
   "cell_type": "code",
   "execution_count": 15,
   "metadata": {},
   "outputs": [
    {
     "name": "stdout",
     "output_type": "stream",
     "text": [
      "              precision    recall  f1-score   support\n",
      "\n",
      "           0       0.96      0.94      0.95      7006\n",
      "           1       0.95      0.97      0.96      7421\n",
      "\n",
      "    accuracy                           0.96     14427\n",
      "   macro avg       0.96      0.95      0.96     14427\n",
      "weighted avg       0.96      0.96      0.96     14427\n",
      "\n"
     ]
    }
   ],
   "source": [
    "from sklearn.linear_model import LogisticRegression\n",
    "\n",
    "log_clf = LogisticRegression(max_iter=1000)\n",
    "log_clf.fit(X_train, Y_train)\n",
    "\n",
    "Y_pred_log = log_clf.predict(X_test)\n",
    "print(classification_report(Y_test, Y_pred_log))"
   ]
  },
  {
   "cell_type": "code",
   "execution_count": 17,
   "metadata": {},
   "outputs": [
    {
     "data": {
      "image/png": "[encoded data removed]",
      "text/plain": [
       "<Figure size 432x288 with 1 Axes>"
      ]
     },
     "metadata": {
      "needs_background": "light"
     },
     "output_type": "display_data"
    }
   ],
   "source": [
    "cm = confusion_matrix(Y_test, Y_pred_log)\n",
    "sns.heatmap(cm, annot=True, fmt='d', cmap='Blues', cbar=False,\n",
    "            xticklabels=['Predicted 0', 'Predicted 1'],\n",
    "            yticklabels=['Actual 0', 'Actual 1'])\n",
    "\n",
    "plt.xlabel('Predicted')\n",
    "plt.ylabel('Actual')\n",
    "plt.title('Confusion Matrix logisticReg')\n",
    "plt.show()"
   ]
  },
  {
   "cell_type": "markdown",
   "metadata": {},
   "source": [
    "On comparing the three models, Random forest, Naive bayes and logistic Regression. Rnadom forest and Logistic regression performed very well on these data with accuracy around 94 & 96 respectively. "
   ]
  },
  {
   "cell_type": "code",
   "execution_count": null,
   "metadata": {},
   "outputs": [],
   "source": []
  }
 ],
 "metadata": {
  "kernelspec": {
   "display_name": "Python 3",
   "language": "python",
   "name": "python3"
  },
  "language_info": {
   "codemirror_mode": {
    "name": "ipython",
    "version": 3
   },
   "file_extension": ".py",
   "mimetype": "text/x-python",
   "name": "python",
   "nbconvert_exporter": "python",
   "pygments_lexer": "ipython3",
   "version": "3.8.5"
  }
 },
 "nbformat": 4,
 "nbformat_minor": 4
}
